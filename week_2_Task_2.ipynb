{
 "cells": [
  {
   "cell_type": "code",
   "execution_count": 25,
   "metadata": {},
   "outputs": [
    {
     "name": "stdout",
     "output_type": "stream",
     "text": [
      "Type of data: <class 'numpy.ndarray'>\n",
      "Shape of data: (150, 4)\n",
      "Column names: ['sepal length (cm)', 'sepal width (cm)', 'petal length (cm)', 'petal width (cm)']\n",
      "First 5 rows of the dataset:\n",
      "[[5.1 3.5 1.4 0.2]\n",
      " [4.9 3.  1.4 0.2]\n",
      " [4.7 3.2 1.3 0.2]\n",
      " [4.6 3.1 1.5 0.2]\n",
      " [5.  3.6 1.4 0.2]]\n"
     ]
    }
   ],
   "source": [
    "# Importing required libraries\n",
    "from sklearn import datasets\n",
    "import numpy as np\n",
    "\n",
    "# Load the Iris dataset\n",
    "iris = datasets.load_iris()\n",
    "data = iris.data  # Features\n",
    "target = iris.target  # Labels\n",
    "\n",
    "# Check the type of the dataset and its shape\n",
    "print(f\"Type of data: {type(data)}\")\n",
    "print(f\"Shape of data: {data.shape}\")\n",
    "\n",
    "# Print column names and first 5 rows\n",
    "print(f\"Column names: {iris.feature_names}\")\n",
    "print(\"First 5 rows of the dataset:\")\n",
    "print(data[:5])\n"
   ]
  },
  {
   "cell_type": "code",
   "execution_count": 27,
   "metadata": {},
   "outputs": [
    {
     "name": "stdout",
     "output_type": "stream",
     "text": [
      "Number of samples: 150\n",
      "Number of features: 4\n"
     ]
    }
   ],
   "source": [
    "# Task 2.2: Function to get number of samples and features\n",
    "def features_samples_of_dataset(dataset):\n",
    "    samples, features = dataset.shape\n",
    "    return samples, features\n",
    "\n",
    "samples, features = features_samples_of_dataset(data)\n",
    "print(f\"Number of samples: {samples}\")\n",
    "print(f\"Number of features: {features}\")\n"
   ]
  },
  {
   "cell_type": "code",
   "execution_count": 31,
   "metadata": {},
   "outputs": [],
   "source": [
    "# Task 2.3: Split dataset into training and testing sets (80/20 split)\n",
    "from sklearn.model_selection import train_test_split\n",
    "train_data, test_data, target_train, target_test = train_test_split(data, target, test_size=0.2, random_state=42)\n"
   ]
  },
  {
   "cell_type": "code",
   "execution_count": 33,
   "metadata": {},
   "outputs": [
    {
     "name": "stdout",
     "output_type": "stream",
     "text": [
      "Mean: [5.84333333 3.05733333 3.758      1.19933333]\n",
      "Standard Deviation: [0.82530129 0.43441097 1.75940407 0.75969263]\n",
      "Median: [5.8  3.   4.35 1.3 ]\n"
     ]
    }
   ],
   "source": [
    "# Task 2.4: Explore basic statistics\n",
    "print(f\"Mean: {np.mean(data, axis=0)}\")\n",
    "print(f\"Standard Deviation: {np.std(data, axis=0)}\")\n",
    "print(f\"Median: {np.median(data, axis=0)}\")\n"
   ]
  },
  {
   "cell_type": "code",
   "execution_count": 35,
   "metadata": {},
   "outputs": [
    {
     "data": {
      "image/png": "[encoded data removed]",
      "text/plain": [
       "<Figure size 1200x1000 with 1 Axes>"
      ]
     },
     "metadata": {},
     "output_type": "display_data"
    }
   ],
   "source": [
    "# Task 2.5: Visualize the distribution of a feature using a histogram\n",
    "import matplotlib.pyplot as plt\n",
    "\n",
    "first_feature = data[:, 0]\n",
    "plt.figure(figsize=(12, 10))\n",
    "plt.hist(first_feature, bins=15, edgecolor='black')\n",
    "plt.title('Distribution of First Feature')\n",
    "plt.xlabel('Value')\n",
    "plt.ylabel('Frequency')\n",
    "plt.show()\n"
   ]
  },
  {
   "cell_type": "code",
   "execution_count": 37,
   "metadata": {},
   "outputs": [
    {
     "name": "stdout",
     "output_type": "stream",
     "text": [
      "Mean of task_list: 10.0\n",
      "Statistics of task_list: {'Count': 10, 'Mean': np.float64(10.0), 'Median': np.float64(10.0), 'Standard_Deviation': np.float64(5.744562646538029)}\n"
     ]
    }
   ],
   "source": [
    "# Task 2.6: Calculate mean of a list\n",
    "task_list = [i for i in range(1, 21, 2)]\n",
    "arr = np.array(task_list)\n",
    "print(f\"Mean of task_list: {np.mean(arr)}\")\n",
    "\n",
    "# Task 2.7: Function to calculate count, mean, median, and standard deviation\n",
    "def calculate_statistics(lst):\n",
    "    arr = np.array(lst)\n",
    "    return {\n",
    "        'Count': len(lst),\n",
    "        'Mean': np.mean(arr),\n",
    "        'Median': np.median(arr),\n",
    "        'Standard_Deviation': np.std(arr)\n",
    "    }\n",
    "\n",
    "statistics = calculate_statistics(task_list)\n",
    "print(\"Statistics of task_list:\", statistics)\n"
   ]
  },
  {
   "cell_type": "code",
   "execution_count": 39,
   "metadata": {},
   "outputs": [
    {
     "name": "stdout",
     "output_type": "stream",
     "text": [
      "5x5 Random Matrix:\n",
      "[[62 73 71 91 55]\n",
      " [88 11 24 19 90]\n",
      " [91 38 32 55 55]\n",
      " [20 84 51 73 25]\n",
      " [93 37 70 15 45]]\n"
     ]
    }
   ],
   "source": [
    "# Task 2.8: Generate a 5x5 matrix of random numbers\n",
    "random_matrix = np.random.randint(1, 100, size=(5, 5))\n",
    "print(\"5x5 Random Matrix:\")\n",
    "print(random_matrix)\n"
   ]
  },
  {
   "cell_type": "code",
   "execution_count": 41,
   "metadata": {},
   "outputs": [
    {
     "name": "stdout",
     "output_type": "stream",
     "text": [
      "Summary statistics of HousingData.csv:\n",
      "             CRIM          ZN       INDUS        CHAS         NOX          RM  \\\n",
      "count  486.000000  486.000000  486.000000  486.000000  506.000000  506.000000   \n",
      "mean     3.611874   11.211934   11.083992    0.069959    0.554695    6.284634   \n",
      "std      8.720192   23.388876    6.835896    0.255340    0.115878    0.702617   \n",
      "min      0.006320    0.000000    0.460000    0.000000    0.385000    3.561000   \n",
      "25%      0.081900    0.000000    5.190000    0.000000    0.449000    5.885500   \n",
      "50%      0.253715    0.000000    9.690000    0.000000    0.538000    6.208500   \n",
      "75%      3.560263   12.500000   18.100000    0.000000    0.624000    6.623500   \n",
      "max     88.976200  100.000000   27.740000    1.000000    0.871000    8.780000   \n",
      "\n",
      "              AGE         DIS         RAD         TAX     PTRATIO           B  \\\n",
      "count  486.000000  506.000000  506.000000  506.000000  506.000000  506.000000   \n",
      "mean    68.518519    3.795043    9.549407  408.237154   18.455534  356.674032   \n",
      "std     27.999513    2.105710    8.707259  168.537116    2.164946   91.294864   \n",
      "min      2.900000    1.129600    1.000000  187.000000   12.600000    0.320000   \n",
      "25%     45.175000    2.100175    4.000000  279.000000   17.400000  375.377500   \n",
      "50%     76.800000    3.207450    5.000000  330.000000   19.050000  391.440000   \n",
      "75%     93.975000    5.188425   24.000000  666.000000   20.200000  396.225000   \n",
      "max    100.000000   12.126500   24.000000  711.000000   22.000000  396.900000   \n",
      "\n",
      "            LSTAT        MEDV  \n",
      "count  486.000000  506.000000  \n",
      "mean    12.715432   22.532806  \n",
      "std      7.155871    9.197104  \n",
      "min      1.730000    5.000000  \n",
      "25%      7.125000   17.025000  \n",
      "50%     11.430000   21.200000  \n",
      "75%     16.955000   25.000000  \n",
      "max     37.970000   50.000000  \n"
     ]
    }
   ],
   "source": [
    "# Task 2.9: Load a CSV file into a DataFrame and print summary statistics\n",
    "import pandas as pd\n",
    "\n",
    "file_path = 'HousingData.csv'\n",
    "HD_df = pd.read_csv(file_path)\n",
    "print(\"Summary statistics of HousingData.csv:\")\n",
    "print(HD_df.describe())\n"
   ]
  },
  {
   "cell_type": "code",
   "execution_count": 42,
   "metadata": {},
   "outputs": [
    {
     "name": "stdout",
     "output_type": "stream",
     "text": [
      "Remaining NaN values after processing:\n",
      "CRIM     0\n",
      "ZN       0\n",
      "INDUS    0\n",
      "CHAS     0\n",
      "AGE      0\n",
      "LSTAT    0\n",
      "dtype: int64\n",
      "Model coefficients: [-1.14139919e-01  2.90156278e-02 -2.71329054e-02  3.24067342e+00\n",
      " -1.60175433e+01  4.75240956e+00 -1.95196142e-02 -1.52159267e+00\n",
      "  2.22822577e-01 -9.15063665e-03 -8.86045288e-01  1.22626115e-02\n",
      " -4.38440425e-01]\n",
      "Model intercept: 27.912465201030834\n"
     ]
    }
   ],
   "source": [
    "# Task 2.10: Simple Linear Regression using Scikit-Learn\n",
    "from sklearn.linear_model import LinearRegression\n",
    "\n",
    "# Preprocessing steps for Housing Data\n",
    "HD_df.replace('?', np.nan, inplace=True)\n",
    "columns = ['CRIM', 'ZN', 'INDUS', 'CHAS', 'AGE', 'LSTAT']\n",
    "\n",
    "# Replace NaN values with the average value\n",
    "for column in columns:\n",
    "    HD_df[column] = HD_df[column].astype(float).fillna(HD_df[column].astype(float).mean())\n",
    "\n",
    "# Check for any remaining NaN values\n",
    "print(\"Remaining NaN values after processing:\")\n",
    "print(HD_df[columns].isnull().sum())\n",
    "\n",
    "# Define features and target for linear regression\n",
    "X = HD_df[['CRIM', 'ZN', 'INDUS', 'CHAS', 'NOX', 'RM', 'AGE', 'DIS', 'RAD', 'TAX', 'PTRATIO', 'B', 'LSTAT']]\n",
    "y = HD_df['MEDV']\n",
    "\n",
    "# Split the dataset into training and testing sets\n",
    "X_train, X_test, y_train, y_test = train_test_split(X, y, test_size=0.2, random_state=42)\n",
    "\n",
    "# Create and train the linear regression model\n",
    "model = LinearRegression()\n",
    "model.fit(X_train, y_train)\n",
    "\n",
    "# Print the model's coefficients and intercept\n",
    "print(\"Model coefficients:\", model.coef_)\n",
    "print(\"Model intercept:\", model.intercept_)\n"
   ]
  }
 ],
 "metadata": {
  "kernelspec": {
   "display_name": "Python 3",
   "language": "python",
   "name": "python3"
  },
  "language_info": {
   "codemirror_mode": {
    "name": "ipython",
    "version": 3
   },
   "file_extension": ".py",
   "mimetype": "text/x-python",
   "name": "python",
   "nbconvert_exporter": "python",
   "pygments_lexer": "ipython3",
   "version": "3.12.4"
  }
 },
 "nbformat": 4,
 "nbformat_minor": 2
}
