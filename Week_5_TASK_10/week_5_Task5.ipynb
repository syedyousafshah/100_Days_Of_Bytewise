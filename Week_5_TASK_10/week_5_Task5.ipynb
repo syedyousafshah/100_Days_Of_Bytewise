{
 "cells": [
  {
   "cell_type": "markdown",
   "metadata": {},
   "source": [
    " Data Imputation in the Retail Sales Dataset"
   ]
  },
  {
   "cell_type": "code",
   "execution_count": 6,
   "metadata": {},
   "outputs": [
    {
     "name": "stdout",
     "output_type": "stream",
     "text": [
      "CRIM       3.952569\n",
      "ZN         3.952569\n",
      "INDUS      3.952569\n",
      "CHAS       3.952569\n",
      "NOX        0.000000\n",
      "RM         0.000000\n",
      "AGE        3.952569\n",
      "DIS        0.000000\n",
      "RAD        0.000000\n",
      "TAX        0.000000\n",
      "PTRATIO    0.000000\n",
      "B          0.000000\n",
      "LSTAT      3.952569\n",
      "MEDV       0.000000\n",
      "dtype: float64\n"
     ]
    }
   ],
   "source": [
    "import pandas as pd\n",
    "\n",
    "# Importing the dataset\n",
    "file_path = r'E:\\data set\\HousingData.csv'\n",
    "House_df = pd.read_csv(file_path)\n",
    "\n",
    "# Calculate the percentage of missing values for each column\n",
    "missing_percentage = House_df.isnull().sum() / House_df.shape[0] * 100\n",
    "\n",
    "# Display the missing values percentage\n",
    "print(missing_percentage)\n"
   ]
  },
  {
   "cell_type": "markdown",
   "metadata": {},
   "source": [
    "K-Nearest Neighbors (KNN) "
   ]
  },
  {
   "cell_type": "code",
   "execution_count": 7,
   "metadata": {},
   "outputs": [
    {
     "data": {
      "text/plain": [
       "CRIM       0\n",
       "ZN         0\n",
       "INDUS      0\n",
       "CHAS       0\n",
       "NOX        0\n",
       "RM         0\n",
       "AGE        0\n",
       "DIS        0\n",
       "RAD        0\n",
       "TAX        0\n",
       "PTRATIO    0\n",
       "B          0\n",
       "LSTAT      0\n",
       "dtype: int64"
      ]
     },
     "execution_count": 7,
     "metadata": {},
     "output_type": "execute_result"
    }
   ],
   "source": [
    "\n",
    "# Replacing with mode\n",
    "House_df['CHAS'] = House_df['CHAS'].fillna(House_df['CHAS'].mode()[0])\n",
    "\n",
    "from sklearn.impute import KNNImputer\n",
    "\n",
    "# Creating a KNN imputer with k=5\n",
    "#k=5 refers to the number of nearest neighbors to consider when imputing missing values.\n",
    "imputer = KNNImputer(n_neighbors=5)\n",
    "\n",
    "X = House_df.iloc[:,0:13]\n",
    "\n",
    "# Fitting the imputer on the dataset and transform the data\n",
    "X_imputed = imputer.fit_transform(X)\n",
    "\n",
    "# Converting the result back to a DataFrame for easier inspection\n",
    "X_imputed_df = pd.DataFrame(X_imputed, columns=X.columns)\n",
    "\n",
    "#verification\n",
    "X_imputed_df.isnull().sum()"
   ]
  },
  {
   "cell_type": "markdown",
   "metadata": {},
   "source": [
    "Multiple Imputation by Chained Equations (MICE):"
   ]
  },
  {
   "cell_type": "code",
   "execution_count": 9,
   "metadata": {},
   "outputs": [
    {
     "data": {
      "text/plain": [
       "CRIM       0\n",
       "ZN         0\n",
       "INDUS      0\n",
       "CHAS       0\n",
       "NOX        0\n",
       "RM         0\n",
       "AGE        0\n",
       "DIS        0\n",
       "RAD        0\n",
       "TAX        0\n",
       "PTRATIO    0\n",
       "B          0\n",
       "LSTAT      0\n",
       "dtype: int64"
      ]
     },
     "execution_count": 9,
     "metadata": {},
     "output_type": "execute_result"
    }
   ],
   "source": [
    "\n",
    "from sklearn.experimental import enable_iterative_imputer\n",
    "from sklearn.impute import IterativeImputer\n",
    "\n",
    "\n",
    "# Selecting features for imputation\n",
    "X = House_df.iloc[:, 0:13] \n",
    "\n",
    "# Initializing the Iterative Imputer (MICE)\n",
    "mice_imputer = IterativeImputer(max_iter=10, random_state=0)  # max_iter: Number of imputation rounds\n",
    "\n",
    "# Fitting the imputer and transform the dataset\n",
    "X_imputed = mice_imputer.fit_transform(X)\n",
    "\n",
    "# Converting the result back to a DataFrame for easier inspection\n",
    "X_imputed_df = pd.DataFrame(X_imputed, columns=X.columns)\n",
    "\n",
    "X_imputed_df.isnull().sum()"
   ]
  },
  {
   "cell_type": "code",
   "execution_count": null,
   "metadata": {},
   "outputs": [],
   "source": []
  }
 ],
 "metadata": {
  "kernelspec": {
   "display_name": "Python 3",
   "language": "python",
   "name": "python3"
  },
  "language_info": {
   "codemirror_mode": {
    "name": "ipython",
    "version": 3
   },
   "file_extension": ".py",
   "mimetype": "text/x-python",
   "name": "python",
   "nbconvert_exporter": "python",
   "pygments_lexer": "ipython3",
   "version": "3.12.4"
  }
 },
 "nbformat": 4,
 "nbformat_minor": 2
}
